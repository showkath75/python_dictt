{
 "cells": [
  {
   "cell_type": "code",
   "execution_count": 1,
   "id": "0f12d6a0",
   "metadata": {},
   "outputs": [
    {
     "name": "stdout",
     "output_type": "stream",
     "text": [
      "My name is : Mohammad showkath ali\n"
     ]
    }
   ],
   "source": [
    "name = (\"Mohammad showkath ali\")\n",
    "print (\"My name is :\", name)\n"
   ]
  },
  {
   "cell_type": "code",
   "execution_count": 3,
   "id": "e7ac8f7e",
   "metadata": {},
   "outputs": [
    {
     "name": "stdout",
     "output_type": "stream",
     "text": [
      "this is my age: 22\n"
     ]
    }
   ],
   "source": [
    "age = 22\n",
    "print (\"this is my age:\", age )\n"
   ]
  },
  {
   "cell_type": "code",
   "execution_count": 6,
   "id": "62cf118f",
   "metadata": {},
   "outputs": [
    {
     "name": "stdout",
     "output_type": "stream",
     "text": [
      "my gender is:  male \n"
     ]
    }
   ],
   "source": [
    "gender=  \" male \"\n",
    "print (\"my gender is:\", gender)"
   ]
  },
  {
   "cell_type": "code",
   "execution_count": 7,
   "id": "c5c5c6db",
   "metadata": {},
   "outputs": [
    {
     "name": "stdout",
     "output_type": "stream",
     "text": [
      "my education details are: bsc. computer science\n"
     ]
    }
   ],
   "source": [
    "education = (\"bsc. computer science\")\n",
    "print (\"my education details are:\", education)"
   ]
  },
  {
   "cell_type": "code",
   "execution_count": 8,
   "id": "33b0689a",
   "metadata": {},
   "outputs": [
    {
     "name": "stdout",
     "output_type": "stream",
     "text": [
      "my hobbies are: ['playing cricket,', 'reading books,', 'playing games,', 'outings']\n"
     ]
    }
   ],
   "source": [
    "hobbies = [\"playing cricket,\", \"reading books,\",\"playing games,\", \"outings\"]\n",
    "print (\"my hobbies are:\", hobbies)"
   ]
  },
  {
   "cell_type": "code",
   "execution_count": 9,
   "id": "c1305170",
   "metadata": {},
   "outputs": [
    {
     "name": "stdout",
     "output_type": "stream",
     "text": [
      "my office location is: ('patanpet,guduru', 'Andhra pradesh')\n"
     ]
    }
   ],
   "source": [
    "location = (\"patanpet,guduru\",\"Andhra pradesh\")\n",
    "print (\"my office location is:\", location)"
   ]
  },
  {
   "cell_type": "code",
   "execution_count": 11,
   "id": "0aa44520",
   "metadata": {},
   "outputs": [
    {
     "name": "stdout",
     "output_type": "stream",
     "text": [
      "My friends names are ('revanth', 'Sai kiran', 'sujith', 'prasad', 'Mahi')\n"
     ]
    }
   ],
   "source": [
    "friends = (\"revanth\",\"Sai kiran\",\"sujith\", \"prasad\", \"Mahi\")\n",
    "print (\"My friends names are\", friends)"
   ]
  },
  {
   "cell_type": "code",
   "execution_count": 12,
   "id": "0b0b32b7",
   "metadata": {},
   "outputs": [
    {
     "name": "stdout",
     "output_type": "stream",
     "text": [
      "My git repository name is: python_dictt\n"
     ]
    }
   ],
   "source": [
    "git_repo = (\"python_dictt\")\n",
    "print (\"My git repository name is:\", git_repo)"
   ]
  },
  {
   "cell_type": "code",
   "execution_count": 13,
   "id": "6d5ca424",
   "metadata": {},
   "outputs": [
    {
     "name": "stdout",
     "output_type": "stream",
     "text": [
      "my github email id: mdshowkathali78633@gmail.com\n"
     ]
    }
   ],
   "source": [
    "git_email = (\"mdshowkathali78633@gmail.com\")\n",
    "print (\"my github email id:\", git_email)"
   ]
  },
  {
   "cell_type": "code",
   "execution_count": null,
   "id": "a48ba7cb",
   "metadata": {},
   "outputs": [],
   "source": []
  }
 ],
 "metadata": {
  "kernelspec": {
   "display_name": "Python 3 (ipykernel)",
   "language": "python",
   "name": "python3"
  },
  "language_info": {
   "codemirror_mode": {
    "name": "ipython",
    "version": 3
   },
   "file_extension": ".py",
   "mimetype": "text/x-python",
   "name": "python",
   "nbconvert_exporter": "python",
   "pygments_lexer": "ipython3",
   "version": "3.10.9"
  }
 },
 "nbformat": 4,
 "nbformat_minor": 5
}
